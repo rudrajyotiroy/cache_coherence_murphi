{
 "cells": [
  {
   "cell_type": "code",
   "execution_count": 100,
   "metadata": {},
   "outputs": [
    {
     "name": "stdout",
     "output_type": "stream",
     "text": [
      "Log Entry: Create Msg 0:: type: GetM, src: 3, dst: 7, ack_cnt: 0, src_state: Proc_IM_D, dst_state: Dir_I\n",
      "Log Entry: Create Msg 1:: type: GetS, src: 1, dst: 7, ack_cnt: 0, src_state: Proc_IS_D, dst_state: Dir_I\n",
      "Log Entry: Create Msg 2:: type: GetS, src: 2, dst: 7, ack_cnt: 0, src_state: Proc_IS_D, dst_state: Dir_I\n",
      "Log Entry: Receive Msg 2:: type: GetS, src: 2, dst: 7, ack_cnt: 0, src_state: Proc_IS_D, dst_state: Dir_I\n",
      "Log Entry: Create Msg 3:: type: Data, src: 7, dst: 2, ack_cnt: 0, src_state: Dir_S, dst_state: Proc_IS_D\n",
      "Log Entry: Receive Msg 0:: type: GetM, src: 3, dst: 7, ack_cnt: 0, src_state: Proc_IM_D, dst_state: Dir_S\n",
      "Log Entry: Create Msg 4:: type: Data, src: 7, dst: 3, ack_cnt: 1, src_state: Dir_SM_A, dst_state: Proc_IM_D\n",
      "Log Entry: Receive Msg 4:: type: Data, src: 7, dst: 3, ack_cnt: 1, src_state: Dir_SM_A, dst_state: Proc_IM_D\n",
      "Log Entry: Create Msg 5:: type: PutM, src: 3, dst: 7, ack_cnt: 0, src_state: Proc_MI_A, dst_state: Dir_SM_A\n",
      "Log Entry: Receive Msg 1:: type: GetS, src: 1, dst: 7, ack_cnt: 0, src_state: Proc_IS_D, dst_state: Dir_SM_A\n",
      "Log Entry: Create Msg 6:: type: NACK, src: 7, dst: 1, ack_cnt: 0, src_state: Dir_SM_A, dst_state: Proc_IS_D\n",
      "Log Entry: Receive Msg 6:: type: NACK, src: 7, dst: 1, ack_cnt: 0, src_state: Dir_SM_A, dst_state: Proc_IS_D\n",
      "Log Entry: Receive Msg 5:: type: PutM, src: 3, dst: 7, ack_cnt: 0, src_state: Proc_MI_A, dst_state: Dir_SM_A\n",
      "Log Entry: Create Msg 7:: type: GetS, src: 1, dst: 7, ack_cnt: 0, src_state: Proc_IS_D, dst_state: Dir_SM_A\n",
      "Log Entry: Receive Msg 3:: type: Data, src: 7, dst: 2, ack_cnt: 0, src_state: Dir_SM_A, dst_state: Proc_IS_D\n"
     ]
    }
   ],
   "source": [
    "import re\n",
    "from tabulate import tabulate\n",
    "from collections import deque\n",
    "from rich.console import Console\n",
    "from rich.table import Table\n",
    "\n",
    "class CacheCoherenceVisualizer:\n",
    "    def __init__(self):\n",
    "        self.nodes = {\n",
    "            1: {\"state\": \"Proc_I\", \"request\": {\"incoming\": [], \"outgoing\": []}, \n",
    "                \"response\": {\"incoming\": [], \"outgoing\": []}, \n",
    "                \"forward\": {\"incoming\": [], \"outgoing\": []}},\n",
    "            2: {\"state\": \"Proc_I\", \"request\": {\"incoming\": [], \"outgoing\": []}, \n",
    "                \"response\": {\"incoming\": [], \"outgoing\": []}, \n",
    "                \"forward\": {\"incoming\": [], \"outgoing\": []}},\n",
    "            3: {\"state\": \"Proc_I\", \"request\": {\"incoming\": [], \"outgoing\": []}, \n",
    "                \"response\": {\"incoming\": [], \"outgoing\": []}, \n",
    "                \"forward\": {\"incoming\": [], \"outgoing\": []}},\n",
    "            7: {\"state\": \"Dir_I\", \"request\": {\"incoming\": [], \"outgoing\": []}, \n",
    "                \"response\": {\"incoming\": [], \"outgoing\": []}, \n",
    "                \"forward\": {\"incoming\": [], \"outgoing\": []}},\n",
    "        }\n",
    "        self.snapshots = deque()  # Store snapshots for navigation\n",
    "        self.current_index = -1  # Track current snapshot\n",
    "\n",
    "    def parse_log_file(self, file_path):\n",
    "        \"\"\"Read and parse the log from a file.\"\"\"\n",
    "        try:\n",
    "            with open(file_path, \"r\") as file:\n",
    "                log = file.read()\n",
    "            self.parse_log(log)\n",
    "        except FileNotFoundError:\n",
    "            print(f\"Error: File '{file_path}' not found.\")\n",
    "        except Exception as e:\n",
    "            print(f\"Error: {e}\")\n",
    "\n",
    "    def parse_log(self, log):\n",
    "        pattern = r\"(Create|Receive) Msg (\\d+):: type: (\\w+), src: (\\d+), dst: (\\d+), .*?src_state: (\\w+), dst_state: (\\w+)\"\n",
    "        matches = re.finditer(pattern, log)\n",
    "\n",
    "        for match in matches:\n",
    "            action, msg_id, msg_type, src, dst, src_state, dst_state = match.groups()\n",
    "            src, dst = int(src), int(dst)\n",
    "            msg_id = int(msg_id)\n",
    "\n",
    "            # Print the log entry\n",
    "            print(f\"Log Entry: {match.group(0)}\")\n",
    "\n",
    "            if action == \"Create\":\n",
    "                self.create_message(msg_id, msg_type, src, dst, src_state, dst_state)\n",
    "            elif action == \"Receive\":\n",
    "                self.receive_message(msg_id, msg_type, src, dst, src_state, dst_state)\n",
    "        self.current_index = 0  # Track current snapshot\n",
    "\n",
    "    def create_message(self, msg_id, msg_type, src, dst, src_state, dst_state):\n",
    "        channel = self.get_channel(msg_type)\n",
    "        # Add message to the outgoing list of the source node\n",
    "        self.nodes[src][channel][\"outgoing\"].append({\"id\": msg_id, \"type\": msg_type, \"dst\": dst})\n",
    "        # Update source and destination states\n",
    "        self.nodes[src][\"state\"] = src_state\n",
    "        self.nodes[dst][\"state\"] = dst_state\n",
    "        # Take a snapshot\n",
    "        self.take_snapshot(f\"Create Msg {msg_id}: {msg_type} from {src} to {dst}\")\n",
    "\n",
    "    def receive_message(self, msg_id, msg_type, src, dst, src_state, dst_state):\n",
    "        channel = self.get_channel(msg_type)\n",
    "        # Remove the corresponding message from the source's outgoing list\n",
    "        outgoing = self.nodes[src][channel][\"outgoing\"]\n",
    "        message = next((m for m in outgoing if m[\"id\"] == msg_id), None)\n",
    "        if message:\n",
    "            outgoing.remove(message)\n",
    "        # Add message to the destination's incoming list\n",
    "        self.nodes[dst][channel][\"incoming\"] = [{\"id\": msg_id, \"type\": msg_type, \"src\": src}]\n",
    "        # Update source and destination states\n",
    "        self.nodes[src][\"state\"] = src_state\n",
    "        self.nodes[dst][\"state\"] = dst_state\n",
    "        # Take a snapshot\n",
    "        self.take_snapshot(f\"Receive Msg {msg_id}: {msg_type} from {src} to {dst}\")\n",
    "\n",
    "    def get_channel(self, msg_type):\n",
    "        if msg_type in {\"GetS\", \"GetM\", \"PutS\", \"PutM\"}:\n",
    "            return \"request\"\n",
    "        elif msg_type in {\"Data\", \"NACK\", \"PutAck\", \"InvAck\", \"FwdAck\"}:\n",
    "            return \"response\"\n",
    "        elif msg_type in {\"Inv\", \"FwdGetS\", \"FwdGetM\"}:\n",
    "            return \"forward\"\n",
    "        else:\n",
    "            raise ValueError(\"Invalid message type\")\n",
    "\n",
    "    def take_snapshot(self, header):\n",
    "        snapshot = {\n",
    "            \"header\": header,\n",
    "            \"nodes\": {k: v.copy() for k, v in self.nodes.items()},\n",
    "        }\n",
    "        self.snapshots.append(snapshot)\n",
    "        self.current_index = len(self.snapshots) - 1\n",
    "\n",
    "    def previous(self):\n",
    "        if self.current_index > 0:\n",
    "            self.current_index -= 1\n",
    "            # self.display_snapshot()\n",
    "            self.display_snapshot_rich()\n",
    "\n",
    "    def next(self):\n",
    "        if self.current_index < len(self.snapshots) - 1:\n",
    "            self.current_index += 1\n",
    "            # self.display_snapshot()\n",
    "            self.display_snapshot_rich()\n",
    "\n",
    "    def display_snapshot(self):\n",
    "        snapshot = self.snapshots[self.current_index]\n",
    "        print(f\"\\n=== {snapshot['header']} ===\\n\")\n",
    "\n",
    "        # Node titles for side-by-side display\n",
    "        node_titles = [\"Proc_1\", \"Proc_2\", \"Proc_3\", \"Dir\"]\n",
    "        node_ids = [1, 2, 3, 7]\n",
    "\n",
    "        # Print the titles for nodes\n",
    "        print(\"   \".join(f\"{title:<30}\" for title in node_titles))\n",
    "        print(\"=\" * 115)\n",
    "\n",
    "        # Loop through channels (request, response, forward)\n",
    "        for channel_name in [\"request\", \"response\", \"forward\"]:\n",
    "            print(f\"{channel_name.capitalize()}\" + \" Outgoing\")\n",
    "\n",
    "            # Prepare outgoing rows for each node\n",
    "            outgoing_rows = [\n",
    "                tabulate(\n",
    "                    snapshot[\"nodes\"][node_id][channel_name][\"outgoing\"],\n",
    "                    headers=\"keys\",\n",
    "                    tablefmt=\"plain\",\n",
    "                    showindex=False\n",
    "                ) or \"[Empty]\"\n",
    "                for node_id in node_ids\n",
    "            ]\n",
    "\n",
    "            # Print outgoing lists side-by-side\n",
    "            self.print_side_by_side(outgoing_rows)\n",
    "\n",
    "            # Prepare incoming rows for each node\n",
    "            print(f\"{channel_name.capitalize()}\" + \" Incoming\")\n",
    "            incoming_rows = [\n",
    "                tabulate(\n",
    "                    snapshot[\"nodes\"][node_id][channel_name][\"incoming\"],\n",
    "                    headers=\"keys\",\n",
    "                    tablefmt=\"plain\",\n",
    "                    showindex=False\n",
    "                ) or \"[Empty]\"\n",
    "                for node_id in node_ids\n",
    "            ]\n",
    "\n",
    "            # Print incoming lists side-by-side\n",
    "            self.print_side_by_side(incoming_rows)\n",
    "            print(\"-\" * 115)\n",
    "\n",
    "    def print_side_by_side(self, tables):\n",
    "        \"\"\"Helper function to print multiple tables side by side.\"\"\"\n",
    "        table_lines = [table.splitlines() for table in tables]\n",
    "        max_lines = max(len(lines) for lines in table_lines)\n",
    "        padded_tables = [\n",
    "            lines + [\"\"] * (max_lines - len(lines)) for lines in table_lines\n",
    "        ]\n",
    "        for row in zip(*padded_tables):\n",
    "            print(\"   \".join(f\"{col:<30}\" for col in row))\n",
    "\n",
    "\n",
    "    def format_list(self, lst):\n",
    "        \"\"\"Format the list to make it compact and readable.\"\"\"\n",
    "        if not lst:\n",
    "            return \"[]\"\n",
    "        return \"\\n\".join(f\"{item['id']}:{item['type']}\" for item in lst)\n",
    "\n",
    "    def display_snapshot_rich(self):\n",
    "        snapshot = self.snapshots[self.current_index]\n",
    "        console = Console(height=1)\n",
    "        console.print(f\"\\n[bold yellow]=== {snapshot['header']} ===[/bold yellow]\\n\")\n",
    "\n",
    "        # Node titles for side-by-side display\n",
    "        node_titles = [\"Proc_1\", \"Proc_2\", \"Proc_3\", \"Dir\"]\n",
    "        node_ids = [1, 2, 3, 7]\n",
    "\n",
    "        # Print the titles for nodes\n",
    "        header_row = \"   \".join(f\"[bold orange]{title:<30}[/bold orange]\" for title in node_titles)\n",
    "        console.print(header_row)\n",
    "        console.print(\"[bold red]=\" * 115)\n",
    "\n",
    "        # Loop through channels (request, response, forward)\n",
    "        for channel_name in [\"request\", \"response\", \"forward\"]:\n",
    "            console.print(f\"[bold green]{channel_name.capitalize():<30}[/bold green]\" * len(node_ids))\n",
    "\n",
    "            # Prepare outgoing rows for each node\n",
    "            outgoing_rows = [\n",
    "                self.format_table_with_rich(\n",
    "                    snapshot[\"nodes\"][node_id][channel_name][\"outgoing\"], False\n",
    "                )\n",
    "                for node_id in node_ids\n",
    "            ]\n",
    "\n",
    "            # Print outgoing lists side-by-side\n",
    "            self.print_side_by_side_with_rich(console, outgoing_rows)\n",
    "\n",
    "            # Prepare incoming rows for each node\n",
    "            console.print(\"\\n[bold green]Incoming[/bold green]\")\n",
    "            incoming_rows = [\n",
    "                self.format_table_with_rich(\n",
    "                    snapshot[\"nodes\"][node_id][channel_name][\"incoming\"], True\n",
    "                )\n",
    "                for node_id in node_ids\n",
    "            ]\n",
    "\n",
    "            # Print incoming lists side-by-side\n",
    "            self.print_side_by_side_with_rich(console, incoming_rows)\n",
    "            console.print(\"[bold red]-[/bold red]\" * 115)\n",
    "\n",
    "    def format_table_with_rich(self, data, incoming):\n",
    "        \"\"\"Format a list as a rich table.\"\"\"\n",
    "        if not data:\n",
    "            return \"[dim]Empty[/dim]\"\n",
    "        table = Table(box=None, show_header=True, header_style=\"bold blue\")\n",
    "        table.add_column(\"ID\", justify=\"center\")\n",
    "        table.add_column(\"Type\", justify=\"center\")\n",
    "        if incoming:\n",
    "            table.add_column(\"Src\", justify=\"center\")\n",
    "        else:\n",
    "            table.add_column(\"Des\", justify=\"center\")\n",
    "        for item in data:\n",
    "            if incoming:\n",
    "                table.add_row(str(item[\"id\"]), item[\"type\"], str(item[\"src\"]))\n",
    "            else:\n",
    "                table.add_row(str(item[\"id\"]), item[\"type\"], str(item[\"dst\"]))\n",
    "        return table\n",
    "\n",
    "    def print_side_by_side_with_rich(self, console, tables):\n",
    "        \"\"\"Helper function to print multiple rich tables side by side.\"\"\"\n",
    "        for table in tables:\n",
    "            console.print(table, end=\"   \")\n",
    "        console.print()  # Newline after the row\n",
    "\n",
    "\n",
    "\n",
    "visualizer = CacheCoherenceVisualizer()\n",
    "visualizer.parse_log_file('msi_opt_sim_preserve.log')\n",
    "# visualizer.previous()  # Navigate to previous snapshot\n",
    "# visualizer.next()      # Navigate to next snapshot\n"
   ]
  },
  {
   "cell_type": "code",
   "execution_count": 101,
   "metadata": {},
   "outputs": [
    {
     "data": {
      "text/html": [
       "<pre style=\"white-space:pre;overflow-x:auto;line-height:normal;font-family:Menlo,'DejaVu Sans Mono',consolas,'Courier New',monospace\">\n",
       "<span style=\"color: #808000; text-decoration-color: #808000; font-weight: bold\">=== Create Msg </span><span style=\"color: #808000; text-decoration-color: #808000; font-weight: bold\">1</span><span style=\"color: #808000; text-decoration-color: #808000; font-weight: bold\">: GetS from </span><span style=\"color: #808000; text-decoration-color: #808000; font-weight: bold\">1</span><span style=\"color: #808000; text-decoration-color: #808000; font-weight: bold\"> to </span><span style=\"color: #808000; text-decoration-color: #808000; font-weight: bold\">7</span><span style=\"color: #808000; text-decoration-color: #808000; font-weight: bold\"> ===</span>\n",
       "\n",
       "</pre>\n"
      ],
      "text/plain": [
       "\n",
       "\u001b[1;33m=== Create Msg \u001b[0m\u001b[1;33m1\u001b[0m\u001b[1;33m: GetS from \u001b[0m\u001b[1;33m1\u001b[0m\u001b[1;33m to \u001b[0m\u001b[1;33m7\u001b[0m\u001b[1;33m ===\u001b[0m\n",
       "\n"
      ]
     },
     "metadata": {},
     "output_type": "display_data"
    },
    {
     "data": {
      "text/html": [
       "<pre style=\"white-space:pre;overflow-x:auto;line-height:normal;font-family:Menlo,'DejaVu Sans Mono',consolas,'Courier New',monospace\">Proc_1                           Proc_2                           Proc_3                           Dir             \n",
       "</pre>\n"
      ],
      "text/plain": [
       "Proc_1                           Proc_2                           Proc_3                           Dir             \n"
      ]
     },
     "metadata": {},
     "output_type": "display_data"
    },
    {
     "data": {
      "text/html": [
       "<pre style=\"white-space:pre;overflow-x:auto;line-height:normal;font-family:Menlo,'DejaVu Sans Mono',consolas,'Courier New',monospace\"><span style=\"color: #800000; text-decoration-color: #800000; font-weight: bold\">===================================================================================================================</span>\n",
       "</pre>\n"
      ],
      "text/plain": [
       "\u001b[1;31m=\u001b[0m\u001b[1;31m=\u001b[0m\u001b[1;31m=\u001b[0m\u001b[1;31m=\u001b[0m\u001b[1;31m=\u001b[0m\u001b[1;31m=\u001b[0m\u001b[1;31m=\u001b[0m\u001b[1;31m=\u001b[0m\u001b[1;31m=\u001b[0m\u001b[1;31m=\u001b[0m\u001b[1;31m=\u001b[0m\u001b[1;31m=\u001b[0m\u001b[1;31m=\u001b[0m\u001b[1;31m=\u001b[0m\u001b[1;31m=\u001b[0m\u001b[1;31m=\u001b[0m\u001b[1;31m=\u001b[0m\u001b[1;31m=\u001b[0m\u001b[1;31m=\u001b[0m\u001b[1;31m=\u001b[0m\u001b[1;31m=\u001b[0m\u001b[1;31m=\u001b[0m\u001b[1;31m=\u001b[0m\u001b[1;31m=\u001b[0m\u001b[1;31m=\u001b[0m\u001b[1;31m=\u001b[0m\u001b[1;31m=\u001b[0m\u001b[1;31m=\u001b[0m\u001b[1;31m=\u001b[0m\u001b[1;31m=\u001b[0m\u001b[1;31m=\u001b[0m\u001b[1;31m=\u001b[0m\u001b[1;31m=\u001b[0m\u001b[1;31m=\u001b[0m\u001b[1;31m=\u001b[0m\u001b[1;31m=\u001b[0m\u001b[1;31m=\u001b[0m\u001b[1;31m=\u001b[0m\u001b[1;31m=\u001b[0m\u001b[1;31m=\u001b[0m\u001b[1;31m=\u001b[0m\u001b[1;31m=\u001b[0m\u001b[1;31m=\u001b[0m\u001b[1;31m=\u001b[0m\u001b[1;31m=\u001b[0m\u001b[1;31m=\u001b[0m\u001b[1;31m=\u001b[0m\u001b[1;31m=\u001b[0m\u001b[1;31m=\u001b[0m\u001b[1;31m=\u001b[0m\u001b[1;31m=\u001b[0m\u001b[1;31m=\u001b[0m\u001b[1;31m=\u001b[0m\u001b[1;31m=\u001b[0m\u001b[1;31m=\u001b[0m\u001b[1;31m=\u001b[0m\u001b[1;31m=\u001b[0m\u001b[1;31m=\u001b[0m\u001b[1;31m=\u001b[0m\u001b[1;31m=\u001b[0m\u001b[1;31m=\u001b[0m\u001b[1;31m=\u001b[0m\u001b[1;31m=\u001b[0m\u001b[1;31m=\u001b[0m\u001b[1;31m=\u001b[0m\u001b[1;31m=\u001b[0m\u001b[1;31m=\u001b[0m\u001b[1;31m=\u001b[0m\u001b[1;31m=\u001b[0m\u001b[1;31m=\u001b[0m\u001b[1;31m=\u001b[0m\u001b[1;31m=\u001b[0m\u001b[1;31m=\u001b[0m\u001b[1;31m=\u001b[0m\u001b[1;31m=\u001b[0m\u001b[1;31m=\u001b[0m\u001b[1;31m=\u001b[0m\u001b[1;31m=\u001b[0m\u001b[1;31m=\u001b[0m\u001b[1;31m=\u001b[0m\u001b[1;31m=\u001b[0m\u001b[1;31m=\u001b[0m\u001b[1;31m=\u001b[0m\u001b[1;31m=\u001b[0m\u001b[1;31m=\u001b[0m\u001b[1;31m=\u001b[0m\u001b[1;31m=\u001b[0m\u001b[1;31m=\u001b[0m\u001b[1;31m=\u001b[0m\u001b[1;31m=\u001b[0m\u001b[1;31m=\u001b[0m\u001b[1;31m=\u001b[0m\u001b[1;31m=\u001b[0m\u001b[1;31m=\u001b[0m\u001b[1;31m=\u001b[0m\u001b[1;31m=\u001b[0m\u001b[1;31m=\u001b[0m\u001b[1;31m=\u001b[0m\u001b[1;31m=\u001b[0m\u001b[1;31m=\u001b[0m\u001b[1;31m=\u001b[0m\u001b[1;31m=\u001b[0m\u001b[1;31m=\u001b[0m\u001b[1;31m=\u001b[0m\u001b[1;31m=\u001b[0m\u001b[1;31m=\u001b[0m\u001b[1;31m=\u001b[0m\u001b[1;31m=\u001b[0m\u001b[1;31m=\u001b[0m\u001b[1;31m=\u001b[0m\u001b[1;31m=\u001b[0m\u001b[1;31m=\u001b[0m\u001b[1;31m=\u001b[0m\u001b[1;31m=\u001b[0m\u001b[1;31m=\u001b[0m\n"
      ]
     },
     "metadata": {},
     "output_type": "display_data"
    },
    {
     "data": {
      "text/html": [
       "<pre style=\"white-space:pre;overflow-x:auto;line-height:normal;font-family:Menlo,'DejaVu Sans Mono',consolas,'Courier New',monospace\"><span style=\"color: #008000; text-decoration-color: #008000; font-weight: bold\">Request                       Request                       Request                       Request                  </span>\n",
       "</pre>\n"
      ],
      "text/plain": [
       "\u001b[1;32mRequest                       \u001b[0m\u001b[1;32mRequest                       \u001b[0m\u001b[1;32mRequest                       \u001b[0m\u001b[1;32mRequest                  \u001b[0m\n"
      ]
     },
     "metadata": {},
     "output_type": "display_data"
    },
    {
     "data": {
      "text/html": [
       "<pre style=\"white-space:pre;overflow-x:auto;line-height:normal;font-family:Menlo,'DejaVu Sans Mono',consolas,'Courier New',monospace\"><span style=\"color: #000080; text-decoration-color: #000080; font-weight: bold\"> ID  Type  Des </span>\n",
       " 7   GetS   7  \n",
       "</pre>\n"
      ],
      "text/plain": [
       "\u001b[1;34m \u001b[0m\u001b[1;34mID\u001b[0m\u001b[1;34m \u001b[0m\u001b[1;34m \u001b[0m\u001b[1;34mType\u001b[0m\u001b[1;34m \u001b[0m\u001b[1;34m \u001b[0m\u001b[1;34mDes\u001b[0m\u001b[1;34m \u001b[0m\n",
       " 7   GetS   7  \n"
      ]
     },
     "metadata": {},
     "output_type": "display_data"
    },
    {
     "data": {
      "text/html": [
       "<pre style=\"white-space:pre;overflow-x:auto;line-height:normal;font-family:Menlo,'DejaVu Sans Mono',consolas,'Courier New',monospace\"><span style=\"color: #7f7f7f; text-decoration-color: #7f7f7f\">Empty</span>   </pre>\n"
      ],
      "text/plain": [
       "\u001b[2mEmpty\u001b[0m   "
      ]
     },
     "metadata": {},
     "output_type": "display_data"
    },
    {
     "data": {
      "text/html": [
       "<pre style=\"white-space:pre;overflow-x:auto;line-height:normal;font-family:Menlo,'DejaVu Sans Mono',consolas,'Courier New',monospace\"><span style=\"color: #7f7f7f; text-decoration-color: #7f7f7f\">Empty</span>   </pre>\n"
      ],
      "text/plain": [
       "\u001b[2mEmpty\u001b[0m   "
      ]
     },
     "metadata": {},
     "output_type": "display_data"
    },
    {
     "data": {
      "text/html": [
       "<pre style=\"white-space:pre;overflow-x:auto;line-height:normal;font-family:Menlo,'DejaVu Sans Mono',consolas,'Courier New',monospace\"><span style=\"color: #7f7f7f; text-decoration-color: #7f7f7f\">Empty</span>   </pre>\n"
      ],
      "text/plain": [
       "\u001b[2mEmpty\u001b[0m   "
      ]
     },
     "metadata": {},
     "output_type": "display_data"
    },
    {
     "data": {
      "text/html": [
       "<pre style=\"white-space:pre;overflow-x:auto;line-height:normal;font-family:Menlo,'DejaVu Sans Mono',consolas,'Courier New',monospace\">\n",
       "</pre>\n"
      ],
      "text/plain": [
       "\n"
      ]
     },
     "metadata": {},
     "output_type": "display_data"
    },
    {
     "data": {
      "text/html": [
       "<pre style=\"white-space:pre;overflow-x:auto;line-height:normal;font-family:Menlo,'DejaVu Sans Mono',consolas,'Courier New',monospace\">\n",
       "<span style=\"color: #008000; text-decoration-color: #008000; font-weight: bold\">Incoming</span>\n",
       "</pre>\n"
      ],
      "text/plain": [
       "\n",
       "\u001b[1;32mIncoming\u001b[0m\n"
      ]
     },
     "metadata": {},
     "output_type": "display_data"
    },
    {
     "data": {
      "text/html": [
       "<pre style=\"white-space:pre;overflow-x:auto;line-height:normal;font-family:Menlo,'DejaVu Sans Mono',consolas,'Courier New',monospace\"><span style=\"color: #7f7f7f; text-decoration-color: #7f7f7f\">Empty</span>   </pre>\n"
      ],
      "text/plain": [
       "\u001b[2mEmpty\u001b[0m   "
      ]
     },
     "metadata": {},
     "output_type": "display_data"
    },
    {
     "data": {
      "text/html": [
       "<pre style=\"white-space:pre;overflow-x:auto;line-height:normal;font-family:Menlo,'DejaVu Sans Mono',consolas,'Courier New',monospace\"><span style=\"color: #7f7f7f; text-decoration-color: #7f7f7f\">Empty</span>   </pre>\n"
      ],
      "text/plain": [
       "\u001b[2mEmpty\u001b[0m   "
      ]
     },
     "metadata": {},
     "output_type": "display_data"
    },
    {
     "data": {
      "text/html": [
       "<pre style=\"white-space:pre;overflow-x:auto;line-height:normal;font-family:Menlo,'DejaVu Sans Mono',consolas,'Courier New',monospace\"><span style=\"color: #7f7f7f; text-decoration-color: #7f7f7f\">Empty</span>   </pre>\n"
      ],
      "text/plain": [
       "\u001b[2mEmpty\u001b[0m   "
      ]
     },
     "metadata": {},
     "output_type": "display_data"
    },
    {
     "data": {
      "text/html": [
       "<pre style=\"white-space:pre;overflow-x:auto;line-height:normal;font-family:Menlo,'DejaVu Sans Mono',consolas,'Courier New',monospace\"><span style=\"color: #000080; text-decoration-color: #000080; font-weight: bold\"> ID  Type  Src </span>\n",
       " 5   PutM   3  \n",
       "</pre>\n"
      ],
      "text/plain": [
       "\u001b[1;34m \u001b[0m\u001b[1;34mID\u001b[0m\u001b[1;34m \u001b[0m\u001b[1;34m \u001b[0m\u001b[1;34mType\u001b[0m\u001b[1;34m \u001b[0m\u001b[1;34m \u001b[0m\u001b[1;34mSrc\u001b[0m\u001b[1;34m \u001b[0m\n",
       " 5   PutM   3  \n"
      ]
     },
     "metadata": {},
     "output_type": "display_data"
    },
    {
     "data": {
      "text/html": [
       "<pre style=\"white-space:pre;overflow-x:auto;line-height:normal;font-family:Menlo,'DejaVu Sans Mono',consolas,'Courier New',monospace\">\n",
       "</pre>\n"
      ],
      "text/plain": [
       "\n"
      ]
     },
     "metadata": {},
     "output_type": "display_data"
    },
    {
     "data": {
      "text/html": [
       "<pre style=\"white-space:pre;overflow-x:auto;line-height:normal;font-family:Menlo,'DejaVu Sans Mono',consolas,'Courier New',monospace\"><span style=\"color: #800000; text-decoration-color: #800000; font-weight: bold\">-------------------------------------------------------------------------------------------------------------------</span>\n",
       "</pre>\n"
      ],
      "text/plain": [
       "\u001b[1;31m-\u001b[0m\u001b[1;31m-\u001b[0m\u001b[1;31m-\u001b[0m\u001b[1;31m-\u001b[0m\u001b[1;31m-\u001b[0m\u001b[1;31m-\u001b[0m\u001b[1;31m-\u001b[0m\u001b[1;31m-\u001b[0m\u001b[1;31m-\u001b[0m\u001b[1;31m-\u001b[0m\u001b[1;31m-\u001b[0m\u001b[1;31m-\u001b[0m\u001b[1;31m-\u001b[0m\u001b[1;31m-\u001b[0m\u001b[1;31m-\u001b[0m\u001b[1;31m-\u001b[0m\u001b[1;31m-\u001b[0m\u001b[1;31m-\u001b[0m\u001b[1;31m-\u001b[0m\u001b[1;31m-\u001b[0m\u001b[1;31m-\u001b[0m\u001b[1;31m-\u001b[0m\u001b[1;31m-\u001b[0m\u001b[1;31m-\u001b[0m\u001b[1;31m-\u001b[0m\u001b[1;31m-\u001b[0m\u001b[1;31m-\u001b[0m\u001b[1;31m-\u001b[0m\u001b[1;31m-\u001b[0m\u001b[1;31m-\u001b[0m\u001b[1;31m-\u001b[0m\u001b[1;31m-\u001b[0m\u001b[1;31m-\u001b[0m\u001b[1;31m-\u001b[0m\u001b[1;31m-\u001b[0m\u001b[1;31m-\u001b[0m\u001b[1;31m-\u001b[0m\u001b[1;31m-\u001b[0m\u001b[1;31m-\u001b[0m\u001b[1;31m-\u001b[0m\u001b[1;31m-\u001b[0m\u001b[1;31m-\u001b[0m\u001b[1;31m-\u001b[0m\u001b[1;31m-\u001b[0m\u001b[1;31m-\u001b[0m\u001b[1;31m-\u001b[0m\u001b[1;31m-\u001b[0m\u001b[1;31m-\u001b[0m\u001b[1;31m-\u001b[0m\u001b[1;31m-\u001b[0m\u001b[1;31m-\u001b[0m\u001b[1;31m-\u001b[0m\u001b[1;31m-\u001b[0m\u001b[1;31m-\u001b[0m\u001b[1;31m-\u001b[0m\u001b[1;31m-\u001b[0m\u001b[1;31m-\u001b[0m\u001b[1;31m-\u001b[0m\u001b[1;31m-\u001b[0m\u001b[1;31m-\u001b[0m\u001b[1;31m-\u001b[0m\u001b[1;31m-\u001b[0m\u001b[1;31m-\u001b[0m\u001b[1;31m-\u001b[0m\u001b[1;31m-\u001b[0m\u001b[1;31m-\u001b[0m\u001b[1;31m-\u001b[0m\u001b[1;31m-\u001b[0m\u001b[1;31m-\u001b[0m\u001b[1;31m-\u001b[0m\u001b[1;31m-\u001b[0m\u001b[1;31m-\u001b[0m\u001b[1;31m-\u001b[0m\u001b[1;31m-\u001b[0m\u001b[1;31m-\u001b[0m\u001b[1;31m-\u001b[0m\u001b[1;31m-\u001b[0m\u001b[1;31m-\u001b[0m\u001b[1;31m-\u001b[0m\u001b[1;31m-\u001b[0m\u001b[1;31m-\u001b[0m\u001b[1;31m-\u001b[0m\u001b[1;31m-\u001b[0m\u001b[1;31m-\u001b[0m\u001b[1;31m-\u001b[0m\u001b[1;31m-\u001b[0m\u001b[1;31m-\u001b[0m\u001b[1;31m-\u001b[0m\u001b[1;31m-\u001b[0m\u001b[1;31m-\u001b[0m\u001b[1;31m-\u001b[0m\u001b[1;31m-\u001b[0m\u001b[1;31m-\u001b[0m\u001b[1;31m-\u001b[0m\u001b[1;31m-\u001b[0m\u001b[1;31m-\u001b[0m\u001b[1;31m-\u001b[0m\u001b[1;31m-\u001b[0m\u001b[1;31m-\u001b[0m\u001b[1;31m-\u001b[0m\u001b[1;31m-\u001b[0m\u001b[1;31m-\u001b[0m\u001b[1;31m-\u001b[0m\u001b[1;31m-\u001b[0m\u001b[1;31m-\u001b[0m\u001b[1;31m-\u001b[0m\u001b[1;31m-\u001b[0m\u001b[1;31m-\u001b[0m\u001b[1;31m-\u001b[0m\u001b[1;31m-\u001b[0m\u001b[1;31m-\u001b[0m\u001b[1;31m-\u001b[0m\u001b[1;31m-\u001b[0m\u001b[1;31m-\u001b[0m\u001b[1;31m-\u001b[0m\n"
      ]
     },
     "metadata": {},
     "output_type": "display_data"
    },
    {
     "data": {
      "text/html": [
       "<pre style=\"white-space:pre;overflow-x:auto;line-height:normal;font-family:Menlo,'DejaVu Sans Mono',consolas,'Courier New',monospace\"><span style=\"color: #008000; text-decoration-color: #008000; font-weight: bold\">Response                      Response                      Response                      Response                 </span>\n",
       "</pre>\n"
      ],
      "text/plain": [
       "\u001b[1;32mResponse                      \u001b[0m\u001b[1;32mResponse                      \u001b[0m\u001b[1;32mResponse                      \u001b[0m\u001b[1;32mResponse                 \u001b[0m\n"
      ]
     },
     "metadata": {},
     "output_type": "display_data"
    },
    {
     "data": {
      "text/html": [
       "<pre style=\"white-space:pre;overflow-x:auto;line-height:normal;font-family:Menlo,'DejaVu Sans Mono',consolas,'Courier New',monospace\"><span style=\"color: #7f7f7f; text-decoration-color: #7f7f7f\">Empty</span>   </pre>\n"
      ],
      "text/plain": [
       "\u001b[2mEmpty\u001b[0m   "
      ]
     },
     "metadata": {},
     "output_type": "display_data"
    },
    {
     "data": {
      "text/html": [
       "<pre style=\"white-space:pre;overflow-x:auto;line-height:normal;font-family:Menlo,'DejaVu Sans Mono',consolas,'Courier New',monospace\"><span style=\"color: #7f7f7f; text-decoration-color: #7f7f7f\">Empty</span>   </pre>\n"
      ],
      "text/plain": [
       "\u001b[2mEmpty\u001b[0m   "
      ]
     },
     "metadata": {},
     "output_type": "display_data"
    },
    {
     "data": {
      "text/html": [
       "<pre style=\"white-space:pre;overflow-x:auto;line-height:normal;font-family:Menlo,'DejaVu Sans Mono',consolas,'Courier New',monospace\"><span style=\"color: #7f7f7f; text-decoration-color: #7f7f7f\">Empty</span>   </pre>\n"
      ],
      "text/plain": [
       "\u001b[2mEmpty\u001b[0m   "
      ]
     },
     "metadata": {},
     "output_type": "display_data"
    },
    {
     "data": {
      "text/html": [
       "<pre style=\"white-space:pre;overflow-x:auto;line-height:normal;font-family:Menlo,'DejaVu Sans Mono',consolas,'Courier New',monospace\"><span style=\"color: #7f7f7f; text-decoration-color: #7f7f7f\">Empty</span>   </pre>\n"
      ],
      "text/plain": [
       "\u001b[2mEmpty\u001b[0m   "
      ]
     },
     "metadata": {},
     "output_type": "display_data"
    },
    {
     "data": {
      "text/html": [
       "<pre style=\"white-space:pre;overflow-x:auto;line-height:normal;font-family:Menlo,'DejaVu Sans Mono',consolas,'Courier New',monospace\">\n",
       "</pre>\n"
      ],
      "text/plain": [
       "\n"
      ]
     },
     "metadata": {},
     "output_type": "display_data"
    },
    {
     "data": {
      "text/html": [
       "<pre style=\"white-space:pre;overflow-x:auto;line-height:normal;font-family:Menlo,'DejaVu Sans Mono',consolas,'Courier New',monospace\">\n",
       "<span style=\"color: #008000; text-decoration-color: #008000; font-weight: bold\">Incoming</span>\n",
       "</pre>\n"
      ],
      "text/plain": [
       "\n",
       "\u001b[1;32mIncoming\u001b[0m\n"
      ]
     },
     "metadata": {},
     "output_type": "display_data"
    },
    {
     "data": {
      "text/html": [
       "<pre style=\"white-space:pre;overflow-x:auto;line-height:normal;font-family:Menlo,'DejaVu Sans Mono',consolas,'Courier New',monospace\"><span style=\"color: #000080; text-decoration-color: #000080; font-weight: bold\"> ID  Type  Src </span>\n",
       " 6   NACK   7  \n",
       "</pre>\n"
      ],
      "text/plain": [
       "\u001b[1;34m \u001b[0m\u001b[1;34mID\u001b[0m\u001b[1;34m \u001b[0m\u001b[1;34m \u001b[0m\u001b[1;34mType\u001b[0m\u001b[1;34m \u001b[0m\u001b[1;34m \u001b[0m\u001b[1;34mSrc\u001b[0m\u001b[1;34m \u001b[0m\n",
       " 6   NACK   7  \n"
      ]
     },
     "metadata": {},
     "output_type": "display_data"
    },
    {
     "data": {
      "text/html": [
       "<pre style=\"white-space:pre;overflow-x:auto;line-height:normal;font-family:Menlo,'DejaVu Sans Mono',consolas,'Courier New',monospace\"><span style=\"color: #000080; text-decoration-color: #000080; font-weight: bold\"> ID  Type  Src </span>\n",
       " 3   Data   7  \n",
       "</pre>\n"
      ],
      "text/plain": [
       "\u001b[1;34m \u001b[0m\u001b[1;34mID\u001b[0m\u001b[1;34m \u001b[0m\u001b[1;34m \u001b[0m\u001b[1;34mType\u001b[0m\u001b[1;34m \u001b[0m\u001b[1;34m \u001b[0m\u001b[1;34mSrc\u001b[0m\u001b[1;34m \u001b[0m\n",
       " 3   Data   7  \n"
      ]
     },
     "metadata": {},
     "output_type": "display_data"
    },
    {
     "data": {
      "text/html": [
       "<pre style=\"white-space:pre;overflow-x:auto;line-height:normal;font-family:Menlo,'DejaVu Sans Mono',consolas,'Courier New',monospace\"><span style=\"color: #000080; text-decoration-color: #000080; font-weight: bold\"> ID  Type  Src </span>\n",
       " 4   Data   7  \n",
       "</pre>\n"
      ],
      "text/plain": [
       "\u001b[1;34m \u001b[0m\u001b[1;34mID\u001b[0m\u001b[1;34m \u001b[0m\u001b[1;34m \u001b[0m\u001b[1;34mType\u001b[0m\u001b[1;34m \u001b[0m\u001b[1;34m \u001b[0m\u001b[1;34mSrc\u001b[0m\u001b[1;34m \u001b[0m\n",
       " 4   Data   7  \n"
      ]
     },
     "metadata": {},
     "output_type": "display_data"
    },
    {
     "data": {
      "text/html": [
       "<pre style=\"white-space:pre;overflow-x:auto;line-height:normal;font-family:Menlo,'DejaVu Sans Mono',consolas,'Courier New',monospace\"><span style=\"color: #7f7f7f; text-decoration-color: #7f7f7f\">Empty</span>   </pre>\n"
      ],
      "text/plain": [
       "\u001b[2mEmpty\u001b[0m   "
      ]
     },
     "metadata": {},
     "output_type": "display_data"
    },
    {
     "data": {
      "text/html": [
       "<pre style=\"white-space:pre;overflow-x:auto;line-height:normal;font-family:Menlo,'DejaVu Sans Mono',consolas,'Courier New',monospace\">\n",
       "</pre>\n"
      ],
      "text/plain": [
       "\n"
      ]
     },
     "metadata": {},
     "output_type": "display_data"
    },
    {
     "data": {
      "text/html": [
       "<pre style=\"white-space:pre;overflow-x:auto;line-height:normal;font-family:Menlo,'DejaVu Sans Mono',consolas,'Courier New',monospace\"><span style=\"color: #800000; text-decoration-color: #800000; font-weight: bold\">-------------------------------------------------------------------------------------------------------------------</span>\n",
       "</pre>\n"
      ],
      "text/plain": [
       "\u001b[1;31m-\u001b[0m\u001b[1;31m-\u001b[0m\u001b[1;31m-\u001b[0m\u001b[1;31m-\u001b[0m\u001b[1;31m-\u001b[0m\u001b[1;31m-\u001b[0m\u001b[1;31m-\u001b[0m\u001b[1;31m-\u001b[0m\u001b[1;31m-\u001b[0m\u001b[1;31m-\u001b[0m\u001b[1;31m-\u001b[0m\u001b[1;31m-\u001b[0m\u001b[1;31m-\u001b[0m\u001b[1;31m-\u001b[0m\u001b[1;31m-\u001b[0m\u001b[1;31m-\u001b[0m\u001b[1;31m-\u001b[0m\u001b[1;31m-\u001b[0m\u001b[1;31m-\u001b[0m\u001b[1;31m-\u001b[0m\u001b[1;31m-\u001b[0m\u001b[1;31m-\u001b[0m\u001b[1;31m-\u001b[0m\u001b[1;31m-\u001b[0m\u001b[1;31m-\u001b[0m\u001b[1;31m-\u001b[0m\u001b[1;31m-\u001b[0m\u001b[1;31m-\u001b[0m\u001b[1;31m-\u001b[0m\u001b[1;31m-\u001b[0m\u001b[1;31m-\u001b[0m\u001b[1;31m-\u001b[0m\u001b[1;31m-\u001b[0m\u001b[1;31m-\u001b[0m\u001b[1;31m-\u001b[0m\u001b[1;31m-\u001b[0m\u001b[1;31m-\u001b[0m\u001b[1;31m-\u001b[0m\u001b[1;31m-\u001b[0m\u001b[1;31m-\u001b[0m\u001b[1;31m-\u001b[0m\u001b[1;31m-\u001b[0m\u001b[1;31m-\u001b[0m\u001b[1;31m-\u001b[0m\u001b[1;31m-\u001b[0m\u001b[1;31m-\u001b[0m\u001b[1;31m-\u001b[0m\u001b[1;31m-\u001b[0m\u001b[1;31m-\u001b[0m\u001b[1;31m-\u001b[0m\u001b[1;31m-\u001b[0m\u001b[1;31m-\u001b[0m\u001b[1;31m-\u001b[0m\u001b[1;31m-\u001b[0m\u001b[1;31m-\u001b[0m\u001b[1;31m-\u001b[0m\u001b[1;31m-\u001b[0m\u001b[1;31m-\u001b[0m\u001b[1;31m-\u001b[0m\u001b[1;31m-\u001b[0m\u001b[1;31m-\u001b[0m\u001b[1;31m-\u001b[0m\u001b[1;31m-\u001b[0m\u001b[1;31m-\u001b[0m\u001b[1;31m-\u001b[0m\u001b[1;31m-\u001b[0m\u001b[1;31m-\u001b[0m\u001b[1;31m-\u001b[0m\u001b[1;31m-\u001b[0m\u001b[1;31m-\u001b[0m\u001b[1;31m-\u001b[0m\u001b[1;31m-\u001b[0m\u001b[1;31m-\u001b[0m\u001b[1;31m-\u001b[0m\u001b[1;31m-\u001b[0m\u001b[1;31m-\u001b[0m\u001b[1;31m-\u001b[0m\u001b[1;31m-\u001b[0m\u001b[1;31m-\u001b[0m\u001b[1;31m-\u001b[0m\u001b[1;31m-\u001b[0m\u001b[1;31m-\u001b[0m\u001b[1;31m-\u001b[0m\u001b[1;31m-\u001b[0m\u001b[1;31m-\u001b[0m\u001b[1;31m-\u001b[0m\u001b[1;31m-\u001b[0m\u001b[1;31m-\u001b[0m\u001b[1;31m-\u001b[0m\u001b[1;31m-\u001b[0m\u001b[1;31m-\u001b[0m\u001b[1;31m-\u001b[0m\u001b[1;31m-\u001b[0m\u001b[1;31m-\u001b[0m\u001b[1;31m-\u001b[0m\u001b[1;31m-\u001b[0m\u001b[1;31m-\u001b[0m\u001b[1;31m-\u001b[0m\u001b[1;31m-\u001b[0m\u001b[1;31m-\u001b[0m\u001b[1;31m-\u001b[0m\u001b[1;31m-\u001b[0m\u001b[1;31m-\u001b[0m\u001b[1;31m-\u001b[0m\u001b[1;31m-\u001b[0m\u001b[1;31m-\u001b[0m\u001b[1;31m-\u001b[0m\u001b[1;31m-\u001b[0m\u001b[1;31m-\u001b[0m\u001b[1;31m-\u001b[0m\u001b[1;31m-\u001b[0m\u001b[1;31m-\u001b[0m\u001b[1;31m-\u001b[0m\u001b[1;31m-\u001b[0m\u001b[1;31m-\u001b[0m\n"
      ]
     },
     "metadata": {},
     "output_type": "display_data"
    },
    {
     "data": {
      "text/html": [
       "<pre style=\"white-space:pre;overflow-x:auto;line-height:normal;font-family:Menlo,'DejaVu Sans Mono',consolas,'Courier New',monospace\"><span style=\"color: #008000; text-decoration-color: #008000; font-weight: bold\">Forward                       Forward                       Forward                       Forward                  </span>\n",
       "</pre>\n"
      ],
      "text/plain": [
       "\u001b[1;32mForward                       \u001b[0m\u001b[1;32mForward                       \u001b[0m\u001b[1;32mForward                       \u001b[0m\u001b[1;32mForward                  \u001b[0m\n"
      ]
     },
     "metadata": {},
     "output_type": "display_data"
    },
    {
     "data": {
      "text/html": [
       "<pre style=\"white-space:pre;overflow-x:auto;line-height:normal;font-family:Menlo,'DejaVu Sans Mono',consolas,'Courier New',monospace\"><span style=\"color: #7f7f7f; text-decoration-color: #7f7f7f\">Empty</span>   </pre>\n"
      ],
      "text/plain": [
       "\u001b[2mEmpty\u001b[0m   "
      ]
     },
     "metadata": {},
     "output_type": "display_data"
    },
    {
     "data": {
      "text/html": [
       "<pre style=\"white-space:pre;overflow-x:auto;line-height:normal;font-family:Menlo,'DejaVu Sans Mono',consolas,'Courier New',monospace\"><span style=\"color: #7f7f7f; text-decoration-color: #7f7f7f\">Empty</span>   </pre>\n"
      ],
      "text/plain": [
       "\u001b[2mEmpty\u001b[0m   "
      ]
     },
     "metadata": {},
     "output_type": "display_data"
    },
    {
     "data": {
      "text/html": [
       "<pre style=\"white-space:pre;overflow-x:auto;line-height:normal;font-family:Menlo,'DejaVu Sans Mono',consolas,'Courier New',monospace\"><span style=\"color: #7f7f7f; text-decoration-color: #7f7f7f\">Empty</span>   </pre>\n"
      ],
      "text/plain": [
       "\u001b[2mEmpty\u001b[0m   "
      ]
     },
     "metadata": {},
     "output_type": "display_data"
    },
    {
     "data": {
      "text/html": [
       "<pre style=\"white-space:pre;overflow-x:auto;line-height:normal;font-family:Menlo,'DejaVu Sans Mono',consolas,'Courier New',monospace\"><span style=\"color: #7f7f7f; text-decoration-color: #7f7f7f\">Empty</span>   </pre>\n"
      ],
      "text/plain": [
       "\u001b[2mEmpty\u001b[0m   "
      ]
     },
     "metadata": {},
     "output_type": "display_data"
    },
    {
     "data": {
      "text/html": [
       "<pre style=\"white-space:pre;overflow-x:auto;line-height:normal;font-family:Menlo,'DejaVu Sans Mono',consolas,'Courier New',monospace\">\n",
       "</pre>\n"
      ],
      "text/plain": [
       "\n"
      ]
     },
     "metadata": {},
     "output_type": "display_data"
    },
    {
     "data": {
      "text/html": [
       "<pre style=\"white-space:pre;overflow-x:auto;line-height:normal;font-family:Menlo,'DejaVu Sans Mono',consolas,'Courier New',monospace\">\n",
       "<span style=\"color: #008000; text-decoration-color: #008000; font-weight: bold\">Incoming</span>\n",
       "</pre>\n"
      ],
      "text/plain": [
       "\n",
       "\u001b[1;32mIncoming\u001b[0m\n"
      ]
     },
     "metadata": {},
     "output_type": "display_data"
    },
    {
     "data": {
      "text/html": [
       "<pre style=\"white-space:pre;overflow-x:auto;line-height:normal;font-family:Menlo,'DejaVu Sans Mono',consolas,'Courier New',monospace\"><span style=\"color: #7f7f7f; text-decoration-color: #7f7f7f\">Empty</span>   </pre>\n"
      ],
      "text/plain": [
       "\u001b[2mEmpty\u001b[0m   "
      ]
     },
     "metadata": {},
     "output_type": "display_data"
    },
    {
     "data": {
      "text/html": [
       "<pre style=\"white-space:pre;overflow-x:auto;line-height:normal;font-family:Menlo,'DejaVu Sans Mono',consolas,'Courier New',monospace\"><span style=\"color: #7f7f7f; text-decoration-color: #7f7f7f\">Empty</span>   </pre>\n"
      ],
      "text/plain": [
       "\u001b[2mEmpty\u001b[0m   "
      ]
     },
     "metadata": {},
     "output_type": "display_data"
    },
    {
     "data": {
      "text/html": [
       "<pre style=\"white-space:pre;overflow-x:auto;line-height:normal;font-family:Menlo,'DejaVu Sans Mono',consolas,'Courier New',monospace\"><span style=\"color: #7f7f7f; text-decoration-color: #7f7f7f\">Empty</span>   </pre>\n"
      ],
      "text/plain": [
       "\u001b[2mEmpty\u001b[0m   "
      ]
     },
     "metadata": {},
     "output_type": "display_data"
    },
    {
     "data": {
      "text/html": [
       "<pre style=\"white-space:pre;overflow-x:auto;line-height:normal;font-family:Menlo,'DejaVu Sans Mono',consolas,'Courier New',monospace\"><span style=\"color: #7f7f7f; text-decoration-color: #7f7f7f\">Empty</span>   </pre>\n"
      ],
      "text/plain": [
       "\u001b[2mEmpty\u001b[0m   "
      ]
     },
     "metadata": {},
     "output_type": "display_data"
    },
    {
     "data": {
      "text/html": [
       "<pre style=\"white-space:pre;overflow-x:auto;line-height:normal;font-family:Menlo,'DejaVu Sans Mono',consolas,'Courier New',monospace\">\n",
       "</pre>\n"
      ],
      "text/plain": [
       "\n"
      ]
     },
     "metadata": {},
     "output_type": "display_data"
    },
    {
     "data": {
      "text/html": [
       "<pre style=\"white-space:pre;overflow-x:auto;line-height:normal;font-family:Menlo,'DejaVu Sans Mono',consolas,'Courier New',monospace\"><span style=\"color: #800000; text-decoration-color: #800000; font-weight: bold\">-------------------------------------------------------------------------------------------------------------------</span>\n",
       "</pre>\n"
      ],
      "text/plain": [
       "\u001b[1;31m-\u001b[0m\u001b[1;31m-\u001b[0m\u001b[1;31m-\u001b[0m\u001b[1;31m-\u001b[0m\u001b[1;31m-\u001b[0m\u001b[1;31m-\u001b[0m\u001b[1;31m-\u001b[0m\u001b[1;31m-\u001b[0m\u001b[1;31m-\u001b[0m\u001b[1;31m-\u001b[0m\u001b[1;31m-\u001b[0m\u001b[1;31m-\u001b[0m\u001b[1;31m-\u001b[0m\u001b[1;31m-\u001b[0m\u001b[1;31m-\u001b[0m\u001b[1;31m-\u001b[0m\u001b[1;31m-\u001b[0m\u001b[1;31m-\u001b[0m\u001b[1;31m-\u001b[0m\u001b[1;31m-\u001b[0m\u001b[1;31m-\u001b[0m\u001b[1;31m-\u001b[0m\u001b[1;31m-\u001b[0m\u001b[1;31m-\u001b[0m\u001b[1;31m-\u001b[0m\u001b[1;31m-\u001b[0m\u001b[1;31m-\u001b[0m\u001b[1;31m-\u001b[0m\u001b[1;31m-\u001b[0m\u001b[1;31m-\u001b[0m\u001b[1;31m-\u001b[0m\u001b[1;31m-\u001b[0m\u001b[1;31m-\u001b[0m\u001b[1;31m-\u001b[0m\u001b[1;31m-\u001b[0m\u001b[1;31m-\u001b[0m\u001b[1;31m-\u001b[0m\u001b[1;31m-\u001b[0m\u001b[1;31m-\u001b[0m\u001b[1;31m-\u001b[0m\u001b[1;31m-\u001b[0m\u001b[1;31m-\u001b[0m\u001b[1;31m-\u001b[0m\u001b[1;31m-\u001b[0m\u001b[1;31m-\u001b[0m\u001b[1;31m-\u001b[0m\u001b[1;31m-\u001b[0m\u001b[1;31m-\u001b[0m\u001b[1;31m-\u001b[0m\u001b[1;31m-\u001b[0m\u001b[1;31m-\u001b[0m\u001b[1;31m-\u001b[0m\u001b[1;31m-\u001b[0m\u001b[1;31m-\u001b[0m\u001b[1;31m-\u001b[0m\u001b[1;31m-\u001b[0m\u001b[1;31m-\u001b[0m\u001b[1;31m-\u001b[0m\u001b[1;31m-\u001b[0m\u001b[1;31m-\u001b[0m\u001b[1;31m-\u001b[0m\u001b[1;31m-\u001b[0m\u001b[1;31m-\u001b[0m\u001b[1;31m-\u001b[0m\u001b[1;31m-\u001b[0m\u001b[1;31m-\u001b[0m\u001b[1;31m-\u001b[0m\u001b[1;31m-\u001b[0m\u001b[1;31m-\u001b[0m\u001b[1;31m-\u001b[0m\u001b[1;31m-\u001b[0m\u001b[1;31m-\u001b[0m\u001b[1;31m-\u001b[0m\u001b[1;31m-\u001b[0m\u001b[1;31m-\u001b[0m\u001b[1;31m-\u001b[0m\u001b[1;31m-\u001b[0m\u001b[1;31m-\u001b[0m\u001b[1;31m-\u001b[0m\u001b[1;31m-\u001b[0m\u001b[1;31m-\u001b[0m\u001b[1;31m-\u001b[0m\u001b[1;31m-\u001b[0m\u001b[1;31m-\u001b[0m\u001b[1;31m-\u001b[0m\u001b[1;31m-\u001b[0m\u001b[1;31m-\u001b[0m\u001b[1;31m-\u001b[0m\u001b[1;31m-\u001b[0m\u001b[1;31m-\u001b[0m\u001b[1;31m-\u001b[0m\u001b[1;31m-\u001b[0m\u001b[1;31m-\u001b[0m\u001b[1;31m-\u001b[0m\u001b[1;31m-\u001b[0m\u001b[1;31m-\u001b[0m\u001b[1;31m-\u001b[0m\u001b[1;31m-\u001b[0m\u001b[1;31m-\u001b[0m\u001b[1;31m-\u001b[0m\u001b[1;31m-\u001b[0m\u001b[1;31m-\u001b[0m\u001b[1;31m-\u001b[0m\u001b[1;31m-\u001b[0m\u001b[1;31m-\u001b[0m\u001b[1;31m-\u001b[0m\u001b[1;31m-\u001b[0m\u001b[1;31m-\u001b[0m\u001b[1;31m-\u001b[0m\u001b[1;31m-\u001b[0m\u001b[1;31m-\u001b[0m\u001b[1;31m-\u001b[0m\u001b[1;31m-\u001b[0m\u001b[1;31m-\u001b[0m\u001b[1;31m-\u001b[0m\n"
      ]
     },
     "metadata": {},
     "output_type": "display_data"
    }
   ],
   "source": [
    "visualizer.next()"
   ]
  },
  {
   "cell_type": "code",
   "execution_count": null,
   "metadata": {},
   "outputs": [],
   "source": []
  }
 ],
 "metadata": {
  "kernelspec": {
   "display_name": "Python 3",
   "language": "python",
   "name": "python3"
  },
  "language_info": {
   "codemirror_mode": {
    "name": "ipython",
    "version": 3
   },
   "file_extension": ".py",
   "mimetype": "text/x-python",
   "name": "python",
   "nbconvert_exporter": "python",
   "pygments_lexer": "ipython3",
   "version": "3.12.3"
  }
 },
 "nbformat": 4,
 "nbformat_minor": 2
}
